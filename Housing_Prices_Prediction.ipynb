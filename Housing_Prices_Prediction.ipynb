{
 "cells": [
  {
   "cell_type": "code",
   "execution_count": 1,
   "id": "e85cc494-9e0c-4955-ac8e-a45b79a859be",
   "metadata": {},
   "outputs": [],
   "source": [
    "from sklearn.tree import DecisionTreeRegressor\n",
    "from sklearn.metrics import mean_absolute_error\n",
    "from sklearn.model_selection import train_test_split\n",
    "from sklearn.ensemble import RandomForestRegressor\n",
    "from sklearn.impute import SimpleImputer\n",
    "import pandas as pd\n",
    "import os"
   ]
  },
  {
   "cell_type": "code",
   "execution_count": 2,
   "id": "218681cb-532d-4abf-9c81-164f4e53f6ce",
   "metadata": {},
   "outputs": [],
   "source": [
    "os.chdir(r'E:\\Kaggle\\home-data-for-ml-course')"
   ]
  },
  {
   "cell_type": "code",
   "execution_count": 3,
   "id": "ebc7236c-5bd5-40e4-9f66-9f1185008d09",
   "metadata": {},
   "outputs": [],
   "source": [
    "housing_df=pd.read_csv('train.csv', index_col='Id')\n",
    "features=['OverallQual', 'GrLivArea' ,'TotalBsmtSF' ,'BsmtFinSF1','GarageCars','1stFlrSF','GarageArea','LotArea','MasVnrArea','YearBuilt',\n",
    "        '2ndFlrSF','LotFrontage','TotRmsAbvGrd','YearRemodAdd','BsmtUnfSF','WoodDeckSF','MoSold','OpenPorchSF','OverallCond',\n",
    "          'Neighborhood'] \n",
    "X=housing_df[features]\n",
    "#X=housing_df.drop(['SalePrice'], axis=1) #used this to first run the code then added back features by importances\n",
    "y=housing_df.SalePrice"
   ]
  },
  {
   "cell_type": "code",
   "execution_count": 4,
   "id": "3eb28e40-228f-4291-8780-95eab7ca6f33",
   "metadata": {},
   "outputs": [],
   "source": [
    "X_train,X_val,y_train,y_val=train_test_split(X,y,train_size=0.75,test_size=0.25,random_state=0)"
   ]
  },
  {
   "cell_type": "code",
   "execution_count": 5,
   "id": "5cbdd06d-4f91-4298-92fa-bcbb4467a50d",
   "metadata": {},
   "outputs": [
    {
     "data": {
      "text/plain": [
       "(1460, 80)"
      ]
     },
     "execution_count": 5,
     "metadata": {},
     "output_type": "execute_result"
    }
   ],
   "source": [
    "housing_df.shape"
   ]
  },
  {
   "cell_type": "markdown",
   "id": "156b341d-2349-45db-8268-4923f97c8ad3",
   "metadata": {},
   "source": [
    "PRE-PROCESSING"
   ]
  },
  {
   "cell_type": "code",
   "execution_count": 7,
   "id": "7b0ac201-a748-45d5-bef9-89b266ef3d17",
   "metadata": {},
   "outputs": [],
   "source": [
    "X_train_num=X_train.select_dtypes(exclude=['object'])\n",
    "X_val_num=X_val.select_dtypes(exclude=['object'])\n",
    "X_train_obj=X_train.select_dtypes(include=['object'])\n",
    "X_val_obj=X_val.select_dtypes(include=['object'])"
   ]
  },
  {
   "cell_type": "code",
   "execution_count": 8,
   "id": "e7f3a64f-d766-4e65-b8c8-e386d4bbe7fc",
   "metadata": {},
   "outputs": [],
   "source": [
    "numeric_cols_train = list(X_train_num.columns)\n",
    "obj_cols_train = list(X_train_obj.columns)"
   ]
  },
  {
   "cell_type": "code",
   "execution_count": 9,
   "id": "9d013e21-fc28-4164-9646-12efebd2f435",
   "metadata": {},
   "outputs": [],
   "source": [
    "col_missing_sum= X_train_num.isnull().sum()\n",
    "cols_with_missing = [col for col in X_train.columns\n",
    "                     if X_train[col].isnull().any()]"
   ]
  },
  {
   "cell_type": "code",
   "execution_count": 10,
   "id": "c30a72b9-0a62-44b1-97e7-93e72c048fc6",
   "metadata": {},
   "outputs": [],
   "source": [
    "def get_mae(X_train_,X_val_,y_train,y_val):\n",
    "    model=RandomForestRegressor(random_state=0)\n",
    "    model.fit(X_train_,y_train)\n",
    "    preds=model.predict(X_val_)\n",
    "    mae=mean_absolute_error(y_val,preds)\n",
    "    return mae"
   ]
  },
  {
   "cell_type": "code",
   "execution_count": 11,
   "id": "41cf1593-44c6-4757-918f-be76c8ee9592",
   "metadata": {
    "editable": true,
    "slideshow": {
     "slide_type": ""
    },
    "tags": []
   },
   "outputs": [
    {
     "name": "stdout",
     "output_type": "stream",
     "text": [
      "17763.591534246574\n"
     ]
    }
   ],
   "source": [
    "myimputer=SimpleImputer()\n",
    "imputed_X_train=pd.DataFrame(myimputer.fit_transform(X_train_num),index=X_train_num.index)\n",
    "imputed_X_val=pd.DataFrame(myimputer.transform(X_val_num),index=X_val_num.index)  \n",
    "imputed_X_train.columns=X_train_num.columns\n",
    "imputed_X_val.columns=X_train_num.columns\n",
    "print(get_mae(imputed_X_train,imputed_X_val,y_train,y_val))\n"
   ]
  },
  {
   "cell_type": "code",
   "execution_count": 12,
   "id": "40cdb33f-593d-497a-937d-70dcf1f5254c",
   "metadata": {
    "editable": true,
    "jupyter": {
     "source_hidden": true
    },
    "slideshow": {
     "slide_type": ""
    },
    "tags": []
   },
   "outputs": [
    {
     "data": {
      "text/plain": [
       "'intially built a for loop, but column exceeded the threshold; dropping none kept MAE unchanged. No feature exceeded 40 % missing. so i only\\nimputed the columns'"
      ]
     },
     "execution_count": 12,
     "metadata": {},
     "output_type": "execute_result"
    }
   ],
   "source": [
    "'''intially built a for loop, but column exceeded the threshold; dropping none kept MAE unchanged. No feature exceeded 40 % missing. so i only\n",
    "imputed the columns'''\n",
    "#imputed_X_train_num=pd.DataFrame(index=X_train.index)\n",
    "#imputed_X_val_num=pd.DataFrame(index=X_val.index)\n",
    "\n",
    "\n",
    "#imputed_X_train=pd.DataFrame(X_train_num.index)\n",
    "#imputed_X_val=pd.DataFrame(X_train_num.index)\n",
    "\n",
    "#for col, i in col_missing_sum.items():\n",
    "#        if i>=0.4*1460: #formula for total rows: #more than half values are NaNs, drop coumn\n",
    " #           reduced_X_train_num=X_train_num.drop([col], axis=1)\n",
    "  #          reduced_X_val_num=X_val_num.drop([col], axis=1)\n",
    "   #         print('dropped column:',[col],get_mae(reduced_X_train_num,reduced_X_val_num,y_train,y_val))\n",
    "    #    else:\n",
    "     #       myimputer=SimpleImputer()\n",
    "      #      imputed_X_train=pd.DataFrame(myimputer.fit_transform(X_train_num[[col]]),index=X_train_num.index,columns=[col])\n",
    "       #     imputed_X_val=pd.DataFrame(myimputer.transform(X_val_num[[col]]),index=X_val_num.index,columns=[col])  \n",
    "        #    imputed_X_train_num[col]=imputed_X_train\n",
    "         #   imputed_X_val_num[col]=imputed_X_val\n",
    "          #  print('imputed column:',[col], get_mae(imputed_X_train,imputed_X_val,y_train,y_val))'''"
   ]
  },
  {
   "cell_type": "code",
   "execution_count": 13,
   "id": "6a27ce8f-24ad-45f2-96d0-0b700b10f246",
   "metadata": {
    "editable": true,
    "slideshow": {
     "slide_type": ""
    },
    "tags": []
   },
   "outputs": [
    {
     "name": "stdout",
     "output_type": "stream",
     "text": [
      "17748.81263013699\n"
     ]
    }
   ],
   "source": [
    "from sklearn.preprocessing import OneHotEncoder\n",
    "\n",
    "onehot_encoder=OneHotEncoder(handle_unknown='ignore',sparse_output=False)\n",
    "encoded_X_train_obj=pd.DataFrame(onehot_encoder.fit_transform(X_train_obj),\n",
    "                                 columns=onehot_encoder.get_feature_names_out(X_train_obj.columns))\n",
    "encoded_X_val_obj=pd.DataFrame(onehot_encoder.transform(X_val_obj),\n",
    "                              columns=onehot_encoder.get_feature_names_out(X_val_obj.columns))\n",
    "\n",
    "#reattatch indices\n",
    "encoded_X_train_obj.index=X_train_obj.index\n",
    "encoded_X_val_obj.index=X_val_obj.index\n",
    "\n",
    "#concatenate obj and num cols now\n",
    "X_train_combi=pd.concat([encoded_X_train_obj,imputed_X_train], axis=1)\n",
    "X_val_combi=pd.concat([encoded_X_val_obj,imputed_X_val], axis=1)\n",
    "\n",
    "#ensure col name=str\n",
    "X_train_combi.columns=X_train_combi.columns.astype(str)\n",
    "X_val_combi.columns=X_val_combi.columns.astype(str)\n",
    "print(get_mae(X_train_combi,X_val_combi,y_train,y_val))"
   ]
  },
  {
   "cell_type": "markdown",
   "id": "d79ad78f-9120-472d-8b25-1fe567fe00c1",
   "metadata": {},
   "source": [
    "MODEL SELECTION"
   ]
  },
  {
   "cell_type": "code",
   "execution_count": 15,
   "id": "2d3d59d8-a6d2-4599-8e08-f3a65d0b75ea",
   "metadata": {
    "jupyter": {
     "source_hidden": true
    }
   },
   "outputs": [
    {
     "data": {
      "text/plain": [
       "'my model selection loop and method'"
      ]
     },
     "execution_count": 15,
     "metadata": {},
     "output_type": "execute_result"
    }
   ],
   "source": [
    "'''my model selection loop and method'''\n",
    "#import numpy as np\n",
    "#def get_model_mae(model):\n",
    "#    model.fit(X_train_combi,y_train)\n",
    "#    preds=model.predict(X_val_combi)\n",
    "#    mae=mean_absolute_error(y_val,preds)\n",
    "#    return mae\n",
    "\n",
    "#mae_list=[]\n",
    "#i_list=[]\n",
    "#for i in range(663,1463,100):   #decreased my ranges from (70 500 50) 1690, (400 600 20) 1680, (400 600 10) 1670, \n",
    "#    model=RandomForestRegressor(n_estimators=i ,max_depth=12,random_state=0,n_jobs=-1)\n",
    "#    mae=get_model_mae(model)\n",
    "#    if mae<=16845:\n",
    "#        print(i, mae)\n",
    "#        mae_list.append(mae)\n",
    "#        i_list.append(i)\n",
    "\n",
    "#mae_ser=pd.Series(mae_list, index=i_list)\n",
    "#print('min mae:',mae_ser.idxmin(), mae_ser.min())'''"
   ]
  },
  {
   "cell_type": "code",
   "execution_count": 16,
   "id": "5bf26557-6b05-47fd-b64b-c476255a13ad",
   "metadata": {},
   "outputs": [
    {
     "name": "stdout",
     "output_type": "stream",
     "text": [
      "17472.567511231267\n"
     ]
    }
   ],
   "source": [
    "best_model=RandomForestRegressor(n_estimators=1363, random_state=0,n_jobs=-1)\n",
    "best_model.fit(X_train_combi,y_train)\n",
    "preds=best_model.predict(X_val_combi)\n",
    "mae=mean_absolute_error(y_val,preds)\n",
    "print(mae)                               "
   ]
  },
  {
   "cell_type": "markdown",
   "id": "53072683-c57f-4100-b4e1-0e0f6faae3e3",
   "metadata": {},
   "source": [
    "X_test"
   ]
  },
  {
   "cell_type": "code",
   "execution_count": 18,
   "id": "adacaed3-cbe6-4d61-8aaa-8ce670f4bd1c",
   "metadata": {},
   "outputs": [],
   "source": [
    "X_test_raw = pd.read_csv('test.csv', index_col='Id')\n",
    "\n",
    "numeric_cols = [col for col in numeric_cols_train if col in X_test_raw.columns]\n",
    "obj_cols = [col for col in obj_cols_train if col in X_test_raw.columns]\n",
    "\n",
    "X_test_num = X_test_raw[numeric_cols]\n",
    "X_test_obj = X_test_raw[obj_cols]\n",
    "col_missing_sum= X_test_num.isnull().sum()\n",
    "\n",
    "X_test_num = X_test_raw[myimputer.feature_names_in_]  "
   ]
  },
  {
   "cell_type": "code",
   "execution_count": 19,
   "id": "b1a30837-7492-4958-9a50-e46704dc7a16",
   "metadata": {},
   "outputs": [
    {
     "name": "stdout",
     "output_type": "stream",
     "text": [
      "Unique Ids in test.csv: 1459\n",
      "Total Ids in test.csv: 1459\n",
      "Duplicate Ids: 0\n",
      "X_test_combi shape before fix: (1459, 19)\n",
      "X_test_combi shape after fix: (1459, 19)\n"
     ]
    }
   ],
   "source": [
    "#since number of missing rows not greater than or equal to at least half of total rows we're gonna impute\n",
    "imputed_test = pd.DataFrame(myimputer.transform(X_test_num))\n",
    "imputed_test.columns=X_test_num.columns\n",
    "\n",
    "#only categorical column left is Neighborhood, which we encode\n",
    "#onehot encoding combine\n",
    "combined_obj = pd.concat([X_train_obj, X_test_obj])  \n",
    "onehot_encoder = OneHotEncoder(handle_unknown='ignore', sparse_output=False)\n",
    "onehot_encoder.fit(combined_obj)\n",
    "\n",
    "# Re-transform both train and test\n",
    "encoded_X_train_obj = pd.DataFrame(\n",
    "    onehot_encoder.transform(X_train_obj),\n",
    "    columns=onehot_encoder.get_feature_names_out(X_train_obj.columns),\n",
    "    index=X_train_obj.index\n",
    ")\n",
    "\n",
    "encoded_X_test = pd.DataFrame(\n",
    "    onehot_encoder.transform(X_test_obj),\n",
    "    columns=onehot_encoder.get_feature_names_out(X_test_obj.columns),\n",
    "    index=X_test_obj.index\n",
    ")\n",
    "X_test_combi = imputed_test.copy()\n",
    "print(\"Unique Ids in test.csv:\", len(X_test_raw.index.unique()))\n",
    "print(\"Total Ids in test.csv:\", len(X_test_raw.index))\n",
    "print(\"Duplicate Ids:\", X_test_raw.index.duplicated().sum())\n",
    "print(\"X_test_combi shape before fix:\", X_test_combi.shape)\n",
    "print(\"X_test_combi shape after fix:\", X_test_combi.shape)"
   ]
  },
  {
   "cell_type": "code",
   "execution_count": 20,
   "id": "eec195fc-2704-4f32-b0f6-abb6df14ca2a",
   "metadata": {},
   "outputs": [
    {
     "name": "stdout",
     "output_type": "stream",
     "text": [
      "False\n"
     ]
    }
   ],
   "source": [
    "print(X_train_combi.columns.equals(X_test_combi.columns)) "
   ]
  },
  {
   "cell_type": "code",
   "execution_count": 21,
   "id": "0f9934f0-9095-4e97-937b-7bd4943f8abe",
   "metadata": {},
   "outputs": [
    {
     "name": "stdout",
     "output_type": "stream",
     "text": [
      "Training features: ['OverallQual', 'GrLivArea', 'TotalBsmtSF', 'BsmtFinSF1', 'GarageCars', '1stFlrSF', 'GarageArea', 'LotArea', 'MasVnrArea', 'YearBuilt', '2ndFlrSF', 'LotFrontage', 'TotRmsAbvGrd', 'YearRemodAdd', 'BsmtUnfSF', 'WoodDeckSF', 'MoSold', 'OpenPorchSF', 'OverallCond', 'Neighborhood']\n"
     ]
    }
   ],
   "source": [
    "print(\"Training features:\", X_train.columns.tolist())\n",
    "X_test_combi = X_test_combi.reindex(columns=X_test_combi.columns, fill_value=0)"
   ]
  },
  {
   "cell_type": "code",
   "execution_count": 22,
   "id": "444b7d42-5259-4bca-98de-98a4d0276e23",
   "metadata": {},
   "outputs": [
    {
     "name": "stdout",
     "output_type": "stream",
     "text": [
      "Any NaNs?     False\n",
      "All-zero col: 0 of 19\n",
      "Row sample:\n"
     ]
    },
    {
     "data": {
      "text/html": [
       "<div>\n",
       "<style scoped>\n",
       "    .dataframe tbody tr th:only-of-type {\n",
       "        vertical-align: middle;\n",
       "    }\n",
       "\n",
       "    .dataframe tbody tr th {\n",
       "        vertical-align: top;\n",
       "    }\n",
       "\n",
       "    .dataframe thead th {\n",
       "        text-align: right;\n",
       "    }\n",
       "</style>\n",
       "<table border=\"1\" class=\"dataframe\">\n",
       "  <thead>\n",
       "    <tr style=\"text-align: right;\">\n",
       "      <th></th>\n",
       "      <th>OverallQual</th>\n",
       "      <th>GrLivArea</th>\n",
       "      <th>TotalBsmtSF</th>\n",
       "      <th>BsmtFinSF1</th>\n",
       "      <th>GarageCars</th>\n",
       "      <th>1stFlrSF</th>\n",
       "      <th>GarageArea</th>\n",
       "      <th>LotArea</th>\n",
       "      <th>MasVnrArea</th>\n",
       "      <th>YearBuilt</th>\n",
       "      <th>2ndFlrSF</th>\n",
       "      <th>LotFrontage</th>\n",
       "      <th>TotRmsAbvGrd</th>\n",
       "      <th>YearRemodAdd</th>\n",
       "      <th>BsmtUnfSF</th>\n",
       "      <th>WoodDeckSF</th>\n",
       "      <th>MoSold</th>\n",
       "      <th>OpenPorchSF</th>\n",
       "      <th>OverallCond</th>\n",
       "    </tr>\n",
       "  </thead>\n",
       "  <tbody>\n",
       "    <tr>\n",
       "      <th>0</th>\n",
       "      <td>5.0</td>\n",
       "      <td>896.0</td>\n",
       "      <td>882.0</td>\n",
       "      <td>468.0</td>\n",
       "      <td>1.0</td>\n",
       "      <td>896.0</td>\n",
       "      <td>730.0</td>\n",
       "      <td>11622.0</td>\n",
       "      <td>0.0</td>\n",
       "      <td>1961.0</td>\n",
       "      <td>0.0</td>\n",
       "      <td>80.0</td>\n",
       "      <td>5.0</td>\n",
       "      <td>1961.0</td>\n",
       "      <td>270.0</td>\n",
       "      <td>140.0</td>\n",
       "      <td>6.0</td>\n",
       "      <td>0.0</td>\n",
       "      <td>6.0</td>\n",
       "    </tr>\n",
       "    <tr>\n",
       "      <th>1</th>\n",
       "      <td>6.0</td>\n",
       "      <td>1329.0</td>\n",
       "      <td>1329.0</td>\n",
       "      <td>923.0</td>\n",
       "      <td>1.0</td>\n",
       "      <td>1329.0</td>\n",
       "      <td>312.0</td>\n",
       "      <td>14267.0</td>\n",
       "      <td>108.0</td>\n",
       "      <td>1958.0</td>\n",
       "      <td>0.0</td>\n",
       "      <td>81.0</td>\n",
       "      <td>6.0</td>\n",
       "      <td>1958.0</td>\n",
       "      <td>406.0</td>\n",
       "      <td>393.0</td>\n",
       "      <td>6.0</td>\n",
       "      <td>36.0</td>\n",
       "      <td>6.0</td>\n",
       "    </tr>\n",
       "    <tr>\n",
       "      <th>2</th>\n",
       "      <td>5.0</td>\n",
       "      <td>1629.0</td>\n",
       "      <td>928.0</td>\n",
       "      <td>791.0</td>\n",
       "      <td>2.0</td>\n",
       "      <td>928.0</td>\n",
       "      <td>482.0</td>\n",
       "      <td>13830.0</td>\n",
       "      <td>0.0</td>\n",
       "      <td>1997.0</td>\n",
       "      <td>701.0</td>\n",
       "      <td>74.0</td>\n",
       "      <td>6.0</td>\n",
       "      <td>1998.0</td>\n",
       "      <td>137.0</td>\n",
       "      <td>212.0</td>\n",
       "      <td>3.0</td>\n",
       "      <td>34.0</td>\n",
       "      <td>5.0</td>\n",
       "    </tr>\n",
       "    <tr>\n",
       "      <th>3</th>\n",
       "      <td>6.0</td>\n",
       "      <td>1604.0</td>\n",
       "      <td>926.0</td>\n",
       "      <td>602.0</td>\n",
       "      <td>2.0</td>\n",
       "      <td>926.0</td>\n",
       "      <td>470.0</td>\n",
       "      <td>9978.0</td>\n",
       "      <td>20.0</td>\n",
       "      <td>1998.0</td>\n",
       "      <td>678.0</td>\n",
       "      <td>78.0</td>\n",
       "      <td>7.0</td>\n",
       "      <td>1998.0</td>\n",
       "      <td>324.0</td>\n",
       "      <td>360.0</td>\n",
       "      <td>6.0</td>\n",
       "      <td>36.0</td>\n",
       "      <td>6.0</td>\n",
       "    </tr>\n",
       "    <tr>\n",
       "      <th>4</th>\n",
       "      <td>8.0</td>\n",
       "      <td>1280.0</td>\n",
       "      <td>1280.0</td>\n",
       "      <td>263.0</td>\n",
       "      <td>2.0</td>\n",
       "      <td>1280.0</td>\n",
       "      <td>506.0</td>\n",
       "      <td>5005.0</td>\n",
       "      <td>0.0</td>\n",
       "      <td>1992.0</td>\n",
       "      <td>0.0</td>\n",
       "      <td>43.0</td>\n",
       "      <td>5.0</td>\n",
       "      <td>1992.0</td>\n",
       "      <td>1017.0</td>\n",
       "      <td>0.0</td>\n",
       "      <td>1.0</td>\n",
       "      <td>82.0</td>\n",
       "      <td>5.0</td>\n",
       "    </tr>\n",
       "  </tbody>\n",
       "</table>\n",
       "</div>"
      ],
      "text/plain": [
       "   OverallQual  GrLivArea  TotalBsmtSF  BsmtFinSF1  GarageCars  1stFlrSF  \\\n",
       "0          5.0      896.0        882.0       468.0         1.0     896.0   \n",
       "1          6.0     1329.0       1329.0       923.0         1.0    1329.0   \n",
       "2          5.0     1629.0        928.0       791.0         2.0     928.0   \n",
       "3          6.0     1604.0        926.0       602.0         2.0     926.0   \n",
       "4          8.0     1280.0       1280.0       263.0         2.0    1280.0   \n",
       "\n",
       "   GarageArea  LotArea  MasVnrArea  YearBuilt  2ndFlrSF  LotFrontage  \\\n",
       "0       730.0  11622.0         0.0     1961.0       0.0         80.0   \n",
       "1       312.0  14267.0       108.0     1958.0       0.0         81.0   \n",
       "2       482.0  13830.0         0.0     1997.0     701.0         74.0   \n",
       "3       470.0   9978.0        20.0     1998.0     678.0         78.0   \n",
       "4       506.0   5005.0         0.0     1992.0       0.0         43.0   \n",
       "\n",
       "   TotRmsAbvGrd  YearRemodAdd  BsmtUnfSF  WoodDeckSF  MoSold  OpenPorchSF  \\\n",
       "0           5.0        1961.0      270.0       140.0     6.0          0.0   \n",
       "1           6.0        1958.0      406.0       393.0     6.0         36.0   \n",
       "2           6.0        1998.0      137.0       212.0     3.0         34.0   \n",
       "3           7.0        1998.0      324.0       360.0     6.0         36.0   \n",
       "4           5.0        1992.0     1017.0         0.0     1.0         82.0   \n",
       "\n",
       "   OverallCond  \n",
       "0          6.0  \n",
       "1          6.0  \n",
       "2          5.0  \n",
       "3          6.0  \n",
       "4          5.0  "
      ]
     },
     "metadata": {},
     "output_type": "display_data"
    }
   ],
   "source": [
    "print(\"Any NaNs?    \", X_test_combi.isna().values.any())\n",
    "print(\"All-zero col:\", (X_test_combi.std(axis=0) == 0).sum(), \"of\", X_test_combi.shape[1])\n",
    "print(\"Row sample:\")\n",
    "display(X_test_combi.head())"
   ]
  },
  {
   "cell_type": "code",
   "execution_count": 23,
   "id": "b9bedbc9-e891-4239-b1c5-1e1fd5e1d7fe",
   "metadata": {},
   "outputs": [],
   "source": [
    "X_test_combi = X_test_combi.reindex(columns=best_model.feature_names_in_,\n",
    "                                    fill_value=0)"
   ]
  },
  {
   "cell_type": "code",
   "execution_count": 24,
   "id": "6a4b251e-aa6c-476e-9043-b29f2001d89f",
   "metadata": {
    "scrolled": true
   },
   "outputs": [],
   "source": [
    "prediction=best_model.predict(X_test_combi)"
   ]
  },
  {
   "cell_type": "code",
   "execution_count": 25,
   "id": "2d4e6fa6-102c-4b89-972a-f1cf7b2585ea",
   "metadata": {},
   "outputs": [
    {
     "name": "stdout",
     "output_type": "stream",
     "text": [
      "Prediction length: 1459\n"
     ]
    }
   ],
   "source": [
    "print(\"Prediction length:\", len(prediction))"
   ]
  },
  {
   "cell_type": "code",
   "execution_count": 26,
   "id": "cd7a64a9-2f1f-4727-8819-21c9baa80f88",
   "metadata": {},
   "outputs": [
    {
     "name": "stdout",
     "output_type": "stream",
     "text": [
      "Prediction stats:\n",
      "Min: 56524.70286133529\n",
      "Max: 506312.95964783564\n",
      "Mean: 179119.51389332383\n",
      "Sample predictions: [129060.54365371 158858.04035216 183939.20689655 185544.31988261\n",
      " 198085.5590609  185457.1027146  167285.22083639 176485.4380044\n",
      " 186082.99779897 124400.88848129]\n",
      "SalePrice stats in training:\n",
      "Min: 34900\n",
      "Max: 755000\n",
      "Mean: 180733.1497716895\n"
     ]
    }
   ],
   "source": [
    "print(\"Prediction stats:\")\n",
    "print(\"Min:\", prediction.min())\n",
    "print(\"Max:\", prediction.max())\n",
    "print(\"Mean:\", prediction.mean())\n",
    "print(\"Sample predictions:\", prediction[:10])\n",
    "print(\"SalePrice stats in training:\")\n",
    "print(\"Min:\", y_train.min())\n",
    "print(\"Max:\", y_train.max())\n",
    "print(\"Mean:\", y_train.mean())"
   ]
  },
  {
   "cell_type": "code",
   "execution_count": 27,
   "id": "a1dcf5cc-17da-4561-ac91-48f9f848393e",
   "metadata": {},
   "outputs": [],
   "source": [
    "output = pd.DataFrame({'Id': X_test_raw.index,\n",
    "                       'SalePrice': prediction})\n",
    "output.to_csv('prediction1.csv', index=False)"
   ]
  },
  {
   "cell_type": "code",
   "execution_count": null,
   "id": "961333e1-cd21-4937-885d-9445e40cab43",
   "metadata": {},
   "outputs": [],
   "source": []
  }
 ],
 "metadata": {
  "kernelspec": {
   "display_name": "Python 3 (ipykernel)",
   "language": "python",
   "name": "python3"
  },
  "language_info": {
   "codemirror_mode": {
    "name": "ipython",
    "version": 3
   },
   "file_extension": ".py",
   "mimetype": "text/x-python",
   "name": "python",
   "nbconvert_exporter": "python",
   "pygments_lexer": "ipython3",
   "version": "3.12.7"
  }
 },
 "nbformat": 4,
 "nbformat_minor": 5
}
